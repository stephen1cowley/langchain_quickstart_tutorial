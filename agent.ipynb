{
 "cells": [
  {
   "cell_type": "code",
   "execution_count": 22,
   "metadata": {},
   "outputs": [],
   "source": [
    "import getpass\n",
    "import os\n",
    "\n",
    "os.environ[\"TAVILY_API_KEY\"] = getpass.getpass()"
   ]
  },
  {
   "cell_type": "code",
   "execution_count": 23,
   "metadata": {},
   "outputs": [
    {
     "name": "stdout",
     "output_type": "stream",
     "text": [
      "[{'url': 'https://www.weatherapi.com/', 'content': \"{'location': {'name': 'Cambridge', 'region': 'Cambridgeshire', 'country': 'United Kingdom', 'lat': 52.21, 'lon': 0.14, 'tz_id': 'Europe/London', 'localtime_epoch': 1718038869, 'localtime': '2024-06-10 18:01'}, 'current': {'last_updated_epoch': 1718038800, 'last_updated': '2024-06-10 18:00', 'temp_c': 10.0, 'temp_f': 50.0, 'is_day': 1, 'condition': {'text': 'Overcast', 'icon': '//cdn.weatherapi.com/weather/64x64/day/122.png', 'code': 1009}, 'wind_mph': 5.6, 'wind_kph': 9.0, 'wind_degree': 340, 'wind_dir': 'NNW', 'pressure_mb': 1013.0, 'pressure_in': 29.91, 'precip_mm': 0.26, 'precip_in': 0.01, 'humidity': 87, 'cloud': 50, 'feelslike_c': 8.3, 'feelslike_f': 46.9, 'windchill_c': 10.4, 'windchill_f': 50.7, 'heatindex_c': 11.8, 'heatindex_f': 53.2, 'dewpoint_c': 8.9, 'dewpoint_f': 48.1, 'vis_km': 10.0, 'vis_miles': 6.0, 'uv': 3.0, 'gust_mph': 10.8, 'gust_kph': 17.5}}\"}, {'url': 'https://www.accuweather.com/en/gb/cambridge/cb1-1/june-weather/2530522', 'content': 'Get the monthly weather forecast for Cambridge, Cambridgeshire, United Kingdom, including daily high/low, historical averages, to help you plan ahead.'}]\n"
     ]
    }
   ],
   "source": [
    "from langchain_community.tools.tavily_search import TavilySearchResults\n",
    "\n",
    "search = TavilySearchResults(max_results=2)\n",
    "search_results = search.invoke(\"what is the weather in Cambridge\")\n",
    "print(search_results)\n",
    "# If we want, we can create other tools.\n",
    "# Once we have all the tools we want, we can put them in a list that we will reference later.\n",
    "tools = [search]"
   ]
  },
  {
   "cell_type": "code",
   "execution_count": 24,
   "metadata": {},
   "outputs": [],
   "source": [
    "import getpass\n",
    "import os\n",
    "\n",
    "os.environ[\"OPENAI_API_KEY\"] = getpass.getpass()\n",
    "\n",
    "from langchain_openai import ChatOpenAI\n",
    "\n",
    "model = ChatOpenAI(model=\"gpt-4\")"
   ]
  },
  {
   "cell_type": "code",
   "execution_count": 25,
   "metadata": {},
   "outputs": [
    {
     "data": {
      "text/plain": [
       "'Hello! How can I assist you today?'"
      ]
     },
     "execution_count": 25,
     "metadata": {},
     "output_type": "execute_result"
    }
   ],
   "source": [
    "from langchain_core.messages import HumanMessage\n",
    "\n",
    "response = model.invoke([HumanMessage(content=\"hi!\")])\n",
    "response.content"
   ]
  },
  {
   "cell_type": "code",
   "execution_count": 26,
   "metadata": {},
   "outputs": [],
   "source": [
    "model_with_tools = model.bind_tools(tools)"
   ]
  },
  {
   "cell_type": "code",
   "execution_count": 27,
   "metadata": {},
   "outputs": [
    {
     "name": "stdout",
     "output_type": "stream",
     "text": [
      "ContentString: Hello! How can I assist you today?\n",
      "ToolCalls: []\n"
     ]
    }
   ],
   "source": [
    "response = model_with_tools.invoke([HumanMessage(content=\"Hi!\")])\n",
    "\n",
    "print(f\"ContentString: {response.content}\")\n",
    "print(f\"ToolCalls: {response.tool_calls}\")"
   ]
  },
  {
   "cell_type": "code",
   "execution_count": 28,
   "metadata": {},
   "outputs": [
    {
     "name": "stdout",
     "output_type": "stream",
     "text": [
      "ContentString: \n",
      "ToolCalls: [{'name': 'tavily_search_results_json', 'args': {'query': 'current weather in San Francisco'}, 'id': 'call_AqmxcacW0UW5EuBQRJ1NElI6'}]\n"
     ]
    }
   ],
   "source": [
    "response = model_with_tools.invoke([HumanMessage(content=\"What's the weather in SF?\")])\n",
    "\n",
    "print(f\"ContentString: {response.content}\")\n",
    "print(f\"ToolCalls: {response.tool_calls}\")"
   ]
  },
  {
   "cell_type": "code",
   "execution_count": 29,
   "metadata": {},
   "outputs": [],
   "source": [
    "from langgraph.prebuilt import create_react_agent\n",
    "\n",
    "agent_executor = create_react_agent(model, tools)"
   ]
  },
  {
   "cell_type": "code",
   "execution_count": 30,
   "metadata": {},
   "outputs": [
    {
     "data": {
      "text/plain": [
       "[HumanMessage(content='hi!', id='c80f35dd-9449-463b-a1cd-63bfe258d0c1'),\n",
       " AIMessage(content='Hello! How can I assist you today?', response_metadata={'token_usage': {'completion_tokens': 10, 'prompt_tokens': 83, 'total_tokens': 93}, 'model_name': 'gpt-4', 'system_fingerprint': None, 'finish_reason': 'stop', 'logprobs': None}, id='run-befc0009-4c76-4ec5-b363-65e2c91c4e3a-0', usage_metadata={'input_tokens': 83, 'output_tokens': 10, 'total_tokens': 93})]"
      ]
     },
     "execution_count": 30,
     "metadata": {},
     "output_type": "execute_result"
    }
   ],
   "source": [
    "response = agent_executor.invoke({\"messages\": [HumanMessage(content=\"hi!\")]})\n",
    "\n",
    "response[\"messages\"]"
   ]
  },
  {
   "cell_type": "code",
   "execution_count": 31,
   "metadata": {},
   "outputs": [
    {
     "data": {
      "text/plain": [
       "[HumanMessage(content='whats the biggest news story in the uk and us currently?', id='a8a7ddaf-fc7e-4d7f-915f-fd13525ba342'),\n",
       " AIMessage(content='', additional_kwargs={'tool_calls': [{'id': 'call_xooVJtwkczxYxQDxr0yXcxTd', 'function': {'arguments': '{\\n  \"query\": \"biggest news story in the UK\"\\n}', 'name': 'tavily_search_results_json'}, 'type': 'function'}]}, response_metadata={'token_usage': {'completion_tokens': 25, 'prompt_tokens': 94, 'total_tokens': 119}, 'model_name': 'gpt-4', 'system_fingerprint': None, 'finish_reason': 'tool_calls', 'logprobs': None}, id='run-fcb9593e-966d-4af3-88f9-0a31a749d834-0', tool_calls=[{'name': 'tavily_search_results_json', 'args': {'query': 'biggest news story in the UK'}, 'id': 'call_xooVJtwkczxYxQDxr0yXcxTd'}], usage_metadata={'input_tokens': 94, 'output_tokens': 25, 'total_tokens': 119}),\n",
       " ToolMessage(content='[{\"url\": \"https://www.bbc.co.uk/news/uk\", \"content\": \"Former Chancellor Alistair Darling dies aged 70\\\\nSacked TV boss slams chairman in government letter\\\\nDog walker\\'s 999 call about Brianna played to jury\\\\nKidnappers found guilty of killing DJ in empty bar\\\\nPressure grows for ban on new leasehold flats\\\\nFreezing days and nights ahead in UK cold snap\\\\nMother and partner guilty of killing toddler\\\\nGovernment intervenes in UAE bid to buy Telegraph\\\\nFeatures and analysis\\\\nMusic venue reopens after row over \\\\u00a3132m rebuild\\\\n\\'Rock star\\' pandas - not exactly a love story\\\\nThe controversial TV drama that rocked Scotland\\\\nWhen are the next rail strikes?\\\\n What wayfinding can teach us\\\\nDr Fauci: \\'Tell them the cold, honest truth\\'\\\\nThe A-list retreat on a windswept rock\\\\nFind us here\\\\nNews daily newsletter\\\\nMobile app\\\\nGet in touch\\\\nEmail us at haveyoursay@bbc.co.uk\\\\nFollow Have Your Say on Twitter\\\\nWhy you can trust BBC News\\\\nBreakingBreaking news\\\\nNews Navigation\\\\nBBC News Services\\\\nExplore the BBC Darling \\'showed great wisdom in everything he did\\'\\\\nWatch: How The Shard is decorated for Christmas\\\\nMan saved from sinking digger, in another digger\\'s bucket\\\\nMore from the UK\\\\n\\'Nightmare\\' at A&E and \\'India murder plot\\'\\\\nCider firm fined \\\\u00a31.4m for barrier crash death\\\\nMan accused of lying about family\\'s Covid deaths\\\\n\\'Serious, discreet and driven by fairness\\'\\\\n Haulier jailed for links to people-smuggling gang\\\\nLatest Updates\\\\nSacked TV boss slams chairman in government letter\\\\nBy Gwyn Loader\\\\nChief correspondent, Newyddion S4C\\\\nSian Doyle writes to the culture secretary criticising S4C chairman Rhodri Williams\\'s behaviour.\\\\n Around the BBC\\\\nClimate crisis: The 1.5C threshold explained\\\\nNew AI may threaten \\'safe\\' office jobs\\\\nThe US city with a hidden past\\\\n10 of the best films to watch in December\\\\n\"}, {\"url\": \"https://www.bbc.com/?edition=uk\", \"content\": \"More news video\\\\nIconic Concorde jet taken across Hudson River to museum\\\\nHarris explains her historic abortion clinic tour\\\\nFedEx truck hangs from bridge in New York state\\\\nSome cancer patients denied exit from Gaza\\\\nSchumer calls Netanyahu \\'obstacle\\' to peace\\\\nBusiness\\\\nHelloFresh denies taking money after accounts closed\\\\nMcDonald\\'s resolves IT issue for customers in UK\\\\nChina attacks \\'bandit logic\\' of TikTok vote in US\\\\nMeghan launches surprise new lifestyle brand\\\\nWater crisis shakes India\\\\u2019s Silicon Valley\\\\nWomen are working a hidden, unpaid \\'extra shift\\'\\\\nCulture\\\\nBritish Vogue\\'s new editor says she has \\'big shoes to fill\\'\\\\nThe dramatic rise-fall-and-rise of John Galliano\\\\nSquid Game actor found guilty of sexual misconduct\\\\nBaldwin lawyers want manslaughter case thrown out\\\\nBrosnan pleads guilty to national park trespassing\\\\nGet the first draft of history from the BBC\\\\nEditor\\'s picks\\\\nAustralian farm grows world\\'s biggest blueberry\\\\nThe monster fruit is the size of a ping-pong ball and weighs 20.4g, about 10 times the average blueberry.\\\\n The drug pilots take to stay awake\\\\nBMI is an outdated way to measure childhood obesity, study says\\\\n\\'Man in the iron lung\\' Paul Alexander dies at 78\\\\nThe complex truth about fertility and age\\\\nWhat can you absorb through your skin?\\\\nWorld\\'s Table\\\\nInside the only all-female Indian kitchen in the world\\\\nOne dish reigns supreme for Ramadan in India\\\\nDarjeeling Express and the force that is Asma Khan\\\\nThe new croissant taking Paris by storm\\\\nThe hearty Welsh stew for St David\\'s Day\\\\nTravel\\\\nThe best places to see Kyoto\\'s cherry blossoms\\\\nSeven must-try foods at Disney World\\\\nA race car driver\\'s guide to a weekend in Jeddah\\\\nChicago\\'s best sandwiches from hot beef to subs\\\\nThe five best dim sum spots in Singapore\\\\nCopyright 2024 BBC. just a pint\\\\nHelloFresh denies taking money after accounts closed\\\\nCan Sweden keep its edge in the music industry?\\\\nJailed bankers appeal rate \\'rigging\\' convictions\\\\nCulture\\\\nHow to get the perfect night\\'s sleep\\\\nLenny Henry emotional ahead of final Comic Relief\\\\nBritish Vogue\\'s new editor says she has \\'big shoes to fill\\'\\\\nMeet the new boss of British Vogue\\\\nWilloughby set for post-This Morning Netflix show\\\\nSport\\\\nExeter forward Pearson extends contract\\\\nArsenal draw Bayern & Man City face Real in quarter-finals\\\\nDownes rallies Torquay after 10-point deduction\\\\nMan Utd v Liverpool quiz: How well do you remember past FA Cup ties?\\\\nArgyle\\'s Hardie pushing for Scotland place - Foster\\\\nClimate solutions\\\\n World news\\\\nEurope rift on Ukraine clouds Macron talks in Berlin\\\\nMajor internet outages reported across Africa\\\\nIsrael downplays truce prospects after Hamas response\\\\nMan dies after being hit by a lorry in Donegal\\\\nSquid Game actor found guilty of sexual misconduct\\\\nUS and Canada news\\\\nTop Democrat calls for new Israel election as rift grows\\\\nTrump loses bid to dismiss classified files case\\\\nKamala Harris tours abortion clinic in historic first\\\\nUS teen Nex Benedict\\'s death ruled a suicide\\\\nTown\\'s $565,000 sand dune project washed away in days\\\\nUK news\\\\n The prehistoric cows making a comeback in Portugal\\\\nA satellite\\'s tricky hunt for secret emissions\\\\nThe Texas wildfires weren\\'t caused by drought\\\\nWhy Europe is removing its dams\\\\nFixing the world\\'s loneliest runway\\\\nTechnology\\\\nChina attacks \\'bandit logic\\' of TikTok vote in US\\\\nWhy does the US want to ban TikTok?\\\\n\"}]', name='tavily_search_results_json', id='38f708aa-3f76-4033-b25d-2860509de191', tool_call_id='call_xooVJtwkczxYxQDxr0yXcxTd'),\n",
       " AIMessage(content='', additional_kwargs={'tool_calls': [{'id': 'call_KWiU9JOh7G3s0lUJkjvkXffW', 'function': {'arguments': '{\"query\": \"biggest news story in the US\"}', 'name': 'tavily_search_results_json'}, 'type': 'function'}]}, response_metadata={'token_usage': {'completion_tokens': 22, 'prompt_tokens': 1348, 'total_tokens': 1370}, 'model_name': 'gpt-4', 'system_fingerprint': None, 'finish_reason': 'tool_calls', 'logprobs': None}, id='run-a50c7a98-aefe-4950-a997-53bf02e78391-0', tool_calls=[{'name': 'tavily_search_results_json', 'args': {'query': 'biggest news story in the US'}, 'id': 'call_KWiU9JOh7G3s0lUJkjvkXffW'}], usage_metadata={'input_tokens': 1348, 'output_tokens': 22, 'total_tokens': 1370}),\n",
       " ToolMessage(content='[{\"url\": \"https://apnews.com/us-news\", \"content\": \"U.S. News\\\\nBlinken sees goals largely unfulfilled in Mideast trip, even as Israel pledges to protect civilians\\\\nKlete Keller, Olympic gold medalist swimmer, gets 6 months in home detention for Jan. 6 Capitol riot\\\\nBreaches by Iran-affiliated hackers spanned multiple U.S. states, federal agencies say\\\\nReport: Belief death penalty is applied unfairly shows capital punishment\\\\u2019s growing isolation in US\\\\nRetired Justice Sandra Day O\\\\u2019Connor, the first woman on the Supreme Court, has died at 93\\\\nTopics\\\\nAbortion\\\\nCourt pauses federal policy allowing abortion clinic operators to get grants -- but only in Ohio\\\\nMan pleads guilty to 2022 firebombing of Wisconsin anti-abortion office\\\\nWest Virginia places anti-abortion pregnancy center coalition at the helm of $1M grant program\\\\nOpponents gave input on ballot language for abortion-rights measure, Ohio elections chief says\\\\nLGBTQ+\\\\nPolice raid Moscow gay bars after a Supreme Court ruling labeled LGBTQ+ movement \\\\u2018extremist\\\\u2019\\\\nIowa court affirms hate crime conviction of man who left anti-gay notes at homes with rainbow flags\\\\nFirst same-sex married couple in Nepal vow to continue campaign for gay rights\\\\nFor a male sexual assault survivor, justice won in court does not equal healing\\\\nShootings\\\\nLas Vegas police search for suspect after 5 homeless people are shot, killing 1\\\\nLos Angeles police searching for suspect in three fatal shootings of homeless people\\\\nA world away from the West Bank, Vermont shooting victims and their families face new grief and fear\\\\nState trooper who fatally shot man at hospital likely prevented more injuries, attorney general says\\\\nImmigration\\\\nUS border officials are closing a remote Arizona crossing because of overwhelming migrant arrivals\\\\nTexas judge rips into Biden administration\\\\u2019s handling of border in dispute over razor wire barrier\\\\nCongress is eying immigration limits as GOP demands border changes in swap for Biden overseas aid\\\\nRepublicans want to pair border security with aid for Ukraine. Here\\\\u2019s why that makes a deal so tough\\\\nMore news\\\\nMassachusetts Republicans stall funding, again, to shelter the homeless and migrants\\\\nDefense head calls out those who advocate isolationism and \\\\u2018an American retreat from responsibility\\\\u2019\\\\nFormer prep school teacher going back to prison for incident as camp counselor\\\\nRacist remarks cited before cannabis regulator\\\\u2019s suspension, court documents say\\\\nAlabama woman pleads guilty in 2019 baseball bat beating death of man found in a barrel\\\\nWinter weather in Pacific Northwest cuts power to thousands in Seattle, dumps snow on Cascades\\\\nGroup of swing state Muslims vows to ditch Biden in 2024 over his war stance\\\\nFederal judge tosses lawsuit alleging environmental racism in St. James Parish\\\\nSheriff says Alabama family\\\\u2019s pet \\\\u2018wolf-hybrid\\\\u2019 killed their 3-month-old boy\\\\nVermont day care provider convicted of causing infant\\\\u2019s death with doses of antihistamine\\\\nRemington gun factory in operation for nearly 200 years is set to close\\\\nWest Virginia prison inmate indicted on murder charge in missing daughter\\\\u2019s death\\\\nBMW recalls SUVs after Takata air bag inflator blows apart, hurling shrapnel and injuring driver\\\\nSend-offs show Carlton Pearson\\\\u2019s split legacy spurred by his inclusive beliefs, rejection of hell\\\\nTeen girls are being victimized by deepfake nudes. Four are serving today\\\\nUS Navy plans to raise jet plane off Hawaii coral reef using inflatable cylinders\\\\nJudge rejects calls to halt winter construction work on Willow oil project in Alaska during appeal\\\\nUS proposes plan to help the snow-dependent Canada lynx before warming shrinks its habitat\\\\nFormer Colombian military officer accused in base bombing extradited to Florida\\\\nFormer Memphis officer charged in Tyre Nichols\\\\u2019 death had some violations in prior prison guard job\\\\nNew York could see more legal pot shops after state settles cases that halted market\\\\nEx-correctional officer at federal prison in California gets 5 years for sexually abusing inmates\\\\nMan who avoided prosecution as teen in 13-year-old\\\\u2019s killing found guilty of killing father of 2\\\\nJury orders egg suppliers to pay $17.7 million in damages for price gouging in 2000s\\\\nMovie armorer in \\\\u2018Rust\\\\u2019 fatal shooting pleads not guilty to unrelated gun charge\\\\nWisconsin Senate Democrats choose Hesselbein as new minority leader\\\\nAging dams in central and western Massachusetts to be removed in $25M project\\\\nCopyright 2023 The Associated Press. One family is pushing for more protections\\\\nCalifornia sheriff\\\\u2019s sergeant recovering after exchanging gunfire with suspect who was killed\\\\nTrump and DeSantis are at dueling campaign events in Iowa with the caucuses just six weeks away\\\\nJustice Sandra Day O\\\\u2019Connor paved a path for women on the Supreme Court. All Rights Reserved.\\\\n\"}, {\"url\": \"https://www.npr.org/sections/national/\", \"content\": \"The Palm Beach County Court lawsuit was filed by Kim Banner, wife of Jeremy Banner, who died in the fatal car crash after engaging the Autopilot function on a Tesla Model 3.\\\\nNational Transportation Safety Board\\\\nhide caption\\\\nLaw\\\\nJudge says evidence shows Tesla and Elon Musk knew about flawed autopilot system\\\\nNovember 23, 2023 \\\\u2022 In the decision, a Palm Beach County judge noted Tesla\\'s glowing marketing strategy and Musk\\'s public statements about the self-driving software. In this image taken from security video, a light-colored vehicle (top center) flies over a fence into the Rainbow Bridge customs plaza on Wednesday in Niagara Falls, N.Y.\\\\nU.S. Customs and Border Protection via AP\\\\nhide caption\\\\nN.Y. governor says no sign of terrorism in deadly vehicle explosion at border bridge\\\\nNovember 22, 2023 \\\\u2022 Two occupants in the vehicle that exploded at the Rainbow Bridge in Niagara Falls, N.Y., are both dead, officials said. Theo Wargo/Getty Images\\\\nhide caption\\\\nCulture\\\\nBroadway costuming legend accused of sexual assault in civil suit\\\\nNovember 22, 2023 \\\\u2022 William Ivey Long, a six-time Tony Award winner and past chairman of the American Theatre Wing, is one of the defendants in a lawsuit filed Wednesday by Court Watson, a set and costume designer.\\\\n Jamie Squire/Getty Images\\\\nhide caption\\\\nPop Culture\\\\nA Thanksgiving guest\\'s guide to Taylor Swift and Travis Kelce\\\\nNovember 23, 2023 \\\\u2022 Don\\'t be the only one at the table who\\'s behind on the season\\'s hottest romance plot.\\\\n Jordan Strauss/Jordan Strauss/Invision/AP\\\\nhide caption\\\\nSean \\'Diddy\\' Combs accused of sexual abuse by two more women\\\\nNovember 25, 2023 \\\\u2022 Two more women have come forward to accuse Combs of sexual abuse, a week after the music mogul settled a separate lawsuit with the singer Cassie that contained allegations of rape and physical abuse.\\\\n\"}]', name='tavily_search_results_json', id='f594cabd-ec5c-4026-8a96-5cc3c0d2f979', tool_call_id='call_KWiU9JOh7G3s0lUJkjvkXffW'),\n",
       " AIMessage(content=\"The biggest news story in the UK currently is about the death of former Chancellor Alistair Darling at the age of 70. Other notable stories include the government's intervention in the UAE bid to buy Telegraph and the trial of a dog walker related to the case of Brianna.\\n\\nIn the US, the most significant news is about Blinken's largely unfulfilled goals in the Mideast trip, even as Israel pledges to protect civilians. Other significant news includes the home detention sentence for Klete Keller, an Olympic gold medalist swimmer, for his involvement in the Jan. 6 Capitol riot, and the death of Retired Justice Sandra Day O’Connor, the first woman on the Supreme Court, at 93.\", response_metadata={'token_usage': {'completion_tokens': 148, 'prompt_tokens': 2854, 'total_tokens': 3002}, 'model_name': 'gpt-4', 'system_fingerprint': None, 'finish_reason': 'stop', 'logprobs': None}, id='run-49407c22-f3be-4050-82d0-eab86a063176-0', usage_metadata={'input_tokens': 2854, 'output_tokens': 148, 'total_tokens': 3002})]"
      ]
     },
     "execution_count": 31,
     "metadata": {},
     "output_type": "execute_result"
    }
   ],
   "source": [
    "response = agent_executor.invoke(\n",
    "    {\"messages\": [HumanMessage(content=\"whats the biggest news story in the uk and us currently?\")]}\n",
    ")\n",
    "response[\"messages\"]"
   ]
  },
  {
   "cell_type": "code",
   "execution_count": 14,
   "metadata": {},
   "outputs": [
    {
     "name": "stdout",
     "output_type": "stream",
     "text": [
      "{'agent': {'messages': [AIMessage(content='', additional_kwargs={'tool_calls': [{'id': 'call_zFwmQhKc57S6dAR3aRtkZE8E', 'function': {'arguments': '{\\n  \"query\": \"current weather in san francisco\"\\n}', 'name': 'tavily_search_results_json'}, 'type': 'function'}]}, response_metadata={'token_usage': {'completion_tokens': 24, 'prompt_tokens': 88, 'total_tokens': 112}, 'model_name': 'gpt-4', 'system_fingerprint': None, 'finish_reason': 'tool_calls', 'logprobs': None}, id='run-430b453a-d457-4736-92e9-d2ee9f1c0d94-0', tool_calls=[{'name': 'tavily_search_results_json', 'args': {'query': 'current weather in san francisco'}, 'id': 'call_zFwmQhKc57S6dAR3aRtkZE8E'}], usage_metadata={'input_tokens': 88, 'output_tokens': 24, 'total_tokens': 112})]}}\n",
      "----\n",
      "{'tools': {'messages': [ToolMessage(content='[{\"url\": \"https://www.weatherapi.com/\", \"content\": \"{\\'location\\': {\\'name\\': \\'San Francisco\\', \\'region\\': \\'California\\', \\'country\\': \\'United States of America\\', \\'lat\\': 37.78, \\'lon\\': -122.42, \\'tz_id\\': \\'America/Los_Angeles\\', \\'localtime_epoch\\': 1718029535, \\'localtime\\': \\'2024-06-10 7:25\\'}, \\'current\\': {\\'last_updated_epoch\\': 1718028900, \\'last_updated\\': \\'2024-06-10 07:15\\', \\'temp_c\\': 13.3, \\'temp_f\\': 55.9, \\'is_day\\': 1, \\'condition\\': {\\'text\\': \\'Partly cloudy\\', \\'icon\\': \\'//cdn.weatherapi.com/weather/64x64/day/116.png\\', \\'code\\': 1003}, \\'wind_mph\\': 2.2, \\'wind_kph\\': 3.6, \\'wind_degree\\': 10, \\'wind_dir\\': \\'N\\', \\'pressure_mb\\': 1015.0, \\'pressure_in\\': 29.96, \\'precip_mm\\': 0.0, \\'precip_in\\': 0.0, \\'humidity\\': 90, \\'cloud\\': 75, \\'feelslike_c\\': 12.7, \\'feelslike_f\\': 54.9, \\'windchill_c\\': 11.9, \\'windchill_f\\': 53.5, \\'heatindex_c\\': 12.6, \\'heatindex_f\\': 54.6, \\'dewpoint_c\\': 10.0, \\'dewpoint_f\\': 50.0, \\'vis_km\\': 16.0, \\'vis_miles\\': 9.0, \\'uv\\': 4.0, \\'gust_mph\\': 7.9, \\'gust_kph\\': 12.8}}\"}, {\"url\": \"https://forecast.weather.gov/zipcity.php?inputstring=San+Francisco,CA\", \"content\": \"San Francisco CA 37.77\\\\u00b0N 122.41\\\\u00b0W (Elev. 131 ft) Last Update: 6:00 pm PDT Jun 7, 2024. Forecast Valid: 7pm PDT Jun 7, 2024-6pm PDT Jun 14, 2024 . Forecast Discussion . Additional Resources. Radar & Satellite Image. Hourly Weather Forecast. ... Severe Weather ; Current Outlook Maps ; Drought ; Fire Weather ; Fronts/Precipitation Maps ; Current ...\"}]', name='tavily_search_results_json', tool_call_id='call_zFwmQhKc57S6dAR3aRtkZE8E')]}}\n",
      "----\n",
      "{'agent': {'messages': [AIMessage(content='The current weather in San Francisco, California, is partly cloudy with a temperature of 13.3°C (55.9°F). The wind is coming from the north at a speed of 2.2 mph, and the humidity is at 90%. The visibility is good, at 16.0 km.', response_metadata={'token_usage': {'completion_tokens': 65, 'prompt_tokens': 672, 'total_tokens': 737}, 'model_name': 'gpt-4', 'system_fingerprint': None, 'finish_reason': 'stop', 'logprobs': None}, id='run-4ee99bc8-dc23-436b-859d-6a1a9ae17bfd-0', usage_metadata={'input_tokens': 672, 'output_tokens': 65, 'total_tokens': 737})]}}\n",
      "----\n"
     ]
    }
   ],
   "source": [
    "for chunk in agent_executor.stream(\n",
    "    {\"messages\": [HumanMessage(content=\"whats the weather in sf?\")]}\n",
    "):\n",
    "    print(chunk)\n",
    "    print(\"----\")"
   ]
  },
  {
   "cell_type": "code",
   "execution_count": 15,
   "metadata": {},
   "outputs": [
    {
     "name": "stderr",
     "output_type": "stream",
     "text": [
      "c:\\Users\\steph\\OneDrive\\Documents\\UNIVERSITY\\Personal_Projects\\langchain_tutorials\\.venv\\lib\\site-packages\\langchain_core\\_api\\beta_decorator.py:87: LangChainBetaWarning: This API is in beta and may change in the future.\n",
      "  warn_beta(\n"
     ]
    },
    {
     "name": "stdout",
     "output_type": "stream",
     "text": [
      "--\n",
      "Starting tool: tavily_search_results_json with inputs: {'query': 'current weather in San Francisco'}\n",
      "Done tool: tavily_search_results_json\n",
      "Tool output was: [{'url': 'https://www.weatherapi.com/', 'content': \"{'location': {'name': 'San Francisco', 'region': 'California', 'country': 'United States of America', 'lat': 37.78, 'lon': -122.42, 'tz_id': 'America/Los_Angeles', 'localtime_epoch': 1718029535, 'localtime': '2024-06-10 7:25'}, 'current': {'last_updated_epoch': 1718028900, 'last_updated': '2024-06-10 07:15', 'temp_c': 13.3, 'temp_f': 55.9, 'is_day': 1, 'condition': {'text': 'Partly cloudy', 'icon': '//cdn.weatherapi.com/weather/64x64/day/116.png', 'code': 1003}, 'wind_mph': 2.2, 'wind_kph': 3.6, 'wind_degree': 10, 'wind_dir': 'N', 'pressure_mb': 1015.0, 'pressure_in': 29.96, 'precip_mm': 0.0, 'precip_in': 0.0, 'humidity': 90, 'cloud': 75, 'feelslike_c': 12.7, 'feelslike_f': 54.9, 'windchill_c': 11.9, 'windchill_f': 53.5, 'heatindex_c': 12.6, 'heatindex_f': 54.6, 'dewpoint_c': 10.0, 'dewpoint_f': 50.0, 'vis_km': 16.0, 'vis_miles': 9.0, 'uv': 4.0, 'gust_mph': 7.9, 'gust_kph': 12.8}}\"}, {'url': 'https://www.wunderground.com/hourly/us/ca/san-francisco/94111/date/2024-6-10', 'content': 'Current Weather for Popular Cities . San Francisco, CA warning 59 ° F Sunny; Manhattan, NY 79 ° F Partly Cloudy; Schiller Park, IL (60176) warning 74 ° F Mostly Cloudy; Boston, MA warning 64 ...'}]\n",
      "--\n",
      "The| current| weather| in| San| Francisco|,| California| is| partly| cloudy| with| a| temperature| of| |13|.|3|°C| (|55|.|9|°F|).| The| wind| is| coming| from| the| North| at| a| speed| of| |3|.|6| k|ph| (|2|.|2| mph|).| The| humidity| is| at| |90|%| and| visibility| is| |16| kilometers| (|9| miles|).|"
     ]
    }
   ],
   "source": [
    "async for event in agent_executor.astream_events(\n",
    "    {\"messages\": [HumanMessage(content=\"whats the weather in sf?\")]}, version=\"v1\"\n",
    "):\n",
    "    kind = event[\"event\"]\n",
    "    if kind == \"on_chain_start\":\n",
    "        if (\n",
    "            event[\"name\"] == \"Agent\"\n",
    "        ):  # Was assigned when creating the agent with `.with_config({\"run_name\": \"Agent\"})`\n",
    "            print(\n",
    "                f\"Starting agent: {event['name']} with input: {event['data'].get('input')}\"\n",
    "            )\n",
    "    elif kind == \"on_chain_end\":\n",
    "        if (\n",
    "            event[\"name\"] == \"Agent\"\n",
    "        ):  # Was assigned when creating the agent with `.with_config({\"run_name\": \"Agent\"})`\n",
    "            print()\n",
    "            print(\"--\")\n",
    "            print(\n",
    "                f\"Done agent: {event['name']} with output: {event['data'].get('output')['output']}\"\n",
    "            )\n",
    "    if kind == \"on_chat_model_stream\":\n",
    "        content = event[\"data\"][\"chunk\"].content\n",
    "        if content:\n",
    "            # Empty content in the context of OpenAI means\n",
    "            # that the model is asking for a tool to be invoked.\n",
    "            # So we only print non-empty content\n",
    "            print(content, end=\"|\")\n",
    "    elif kind == \"on_tool_start\":\n",
    "        print(\"--\")\n",
    "        print(\n",
    "            f\"Starting tool: {event['name']} with inputs: {event['data'].get('input')}\"\n",
    "        )\n",
    "    elif kind == \"on_tool_end\":\n",
    "        print(f\"Done tool: {event['name']}\")\n",
    "        print(f\"Tool output was: {event['data'].get('output')}\")\n",
    "        print(\"--\")"
   ]
  },
  {
   "cell_type": "code",
   "execution_count": 16,
   "metadata": {},
   "outputs": [],
   "source": [
    "from langgraph.checkpoint.sqlite import SqliteSaver\n",
    "\n",
    "memory = SqliteSaver.from_conn_string(\":memory:\")"
   ]
  },
  {
   "cell_type": "code",
   "execution_count": 17,
   "metadata": {},
   "outputs": [],
   "source": [
    "agent_executor = create_react_agent(model, tools, checkpointer=memory)\n",
    "\n",
    "config = {\"configurable\": {\"thread_id\": \"abc123\"}}"
   ]
  },
  {
   "cell_type": "code",
   "execution_count": 18,
   "metadata": {},
   "outputs": [
    {
     "name": "stdout",
     "output_type": "stream",
     "text": [
      "{'agent': {'messages': [AIMessage(content='Hello Bob! How can I assist you today?', response_metadata={'token_usage': {'completion_tokens': 11, 'prompt_tokens': 85, 'total_tokens': 96}, 'model_name': 'gpt-4', 'system_fingerprint': None, 'finish_reason': 'stop', 'logprobs': None}, id='run-fe25b26b-b288-4dc4-834d-30b6cdd21d3b-0', usage_metadata={'input_tokens': 85, 'output_tokens': 11, 'total_tokens': 96})]}}\n",
      "----\n"
     ]
    }
   ],
   "source": [
    "for chunk in agent_executor.stream(\n",
    "    {\"messages\": [HumanMessage(content=\"hi im bob!\")]}, config\n",
    "):\n",
    "    print(chunk)\n",
    "    print(\"----\")"
   ]
  },
  {
   "cell_type": "code",
   "execution_count": 19,
   "metadata": {},
   "outputs": [
    {
     "name": "stdout",
     "output_type": "stream",
     "text": [
      "{'agent': {'messages': [AIMessage(content='Your name is Bob.', response_metadata={'token_usage': {'completion_tokens': 6, 'prompt_tokens': 108, 'total_tokens': 114}, 'model_name': 'gpt-4', 'system_fingerprint': None, 'finish_reason': 'stop', 'logprobs': None}, id='run-9e0d9dfd-21b8-4871-88aa-02f52b1dbb77-0', usage_metadata={'input_tokens': 108, 'output_tokens': 6, 'total_tokens': 114})]}}\n",
      "----\n"
     ]
    }
   ],
   "source": [
    "for chunk in agent_executor.stream(\n",
    "    {\"messages\": [HumanMessage(content=\"whats my name?\")]}, config\n",
    "):\n",
    "    print(chunk)\n",
    "    print(\"----\")"
   ]
  },
  {
   "cell_type": "code",
   "execution_count": 20,
   "metadata": {},
   "outputs": [
    {
     "name": "stdout",
     "output_type": "stream",
     "text": [
      "{'agent': {'messages': [AIMessage(content=\"As an AI, I don't have access to personal data about individuals unless it has been shared with me in the course of our conversation. I am designed to respect user privacy and confidentiality.\", response_metadata={'token_usage': {'completion_tokens': 39, 'prompt_tokens': 86, 'total_tokens': 125}, 'model_name': 'gpt-4', 'system_fingerprint': None, 'finish_reason': 'stop', 'logprobs': None}, id='run-3235927e-e21b-4e70-affc-3068f469e398-0', usage_metadata={'input_tokens': 86, 'output_tokens': 39, 'total_tokens': 125})]}}\n",
      "----\n"
     ]
    }
   ],
   "source": [
    "config = {\"configurable\": {\"thread_id\": \"xyz123\"}}\n",
    "for chunk in agent_executor.stream(\n",
    "    {\"messages\": [HumanMessage(content=\"whats my name?\")]}, config\n",
    "):\n",
    "    print(chunk)\n",
    "    print(\"----\")"
   ]
  }
 ],
 "metadata": {
  "kernelspec": {
   "display_name": ".venv",
   "language": "python",
   "name": "python3"
  },
  "language_info": {
   "codemirror_mode": {
    "name": "ipython",
    "version": 3
   },
   "file_extension": ".py",
   "mimetype": "text/x-python",
   "name": "python",
   "nbconvert_exporter": "python",
   "pygments_lexer": "ipython3",
   "version": "3.9.13"
  }
 },
 "nbformat": 4,
 "nbformat_minor": 2
}
